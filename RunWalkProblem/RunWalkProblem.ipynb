{
 "cells": [
  {
   "attachments": {},
   "cell_type": "markdown",
   "metadata": {},
   "source": [
    "# Run or Walk problem"
   ]
  },
  {
   "attachments": {},
   "cell_type": "markdown",
   "metadata": {},
   "source": [
    "## Importing \"Run or Walk\" dataset\n",
    "\n",
    "the following lines reads the csv file and it import the dataset"
   ]
  },
  {
   "cell_type": "code",
   "execution_count": 1,
   "metadata": {},
   "outputs": [],
   "source": [
    "import numpy as np\n",
    "import pandas as pd\n",
    "\n",
    "run_walk = pd.read_csv('C:/Users/Asus/Desktop/programitas/RunWalkProblem/Run-or-Walk.csv')"
   ]
  },
  {
   "attachments": {},
   "cell_type": "markdown",
   "metadata": {},
   "source": [
    "## Data pre-processing\n",
    "The goal of this section is to create two new sets with a completely different order than the given train and test sets."
   ]
  },
  {
   "cell_type": "code",
   "execution_count": null,
   "metadata": {},
   "outputs": [],
   "source": [
    "from sklearn.model_selection import train_test_split\n",
    "\n",
    "#creates a subset of 'run_walk' without the 'date','time','username' and 'activity' columns.\n",
    "x = run_walk.drop(['date', 'time', 'username', 'activity'], axis=1)\n",
    "#the activity information, for all the 37776 rows is assigned to variable y\n",
    "y = run_walk['activity']\n",
    "\n",
    "# This method takes variables x and y, shuffles their data, and creates a\n",
    "#  train and test set with a completely different ordering.\n",
    "trainX, testX, trainY, testY = train_test_split(x, y, test_size = 0.2)\n",
    "#For example the acceleration_x now looks totally different compared to the\n",
    "#  one stored in the run_walk dataset. \n",
    "# The dimentions are not the same because............................\n",
    "\n",
    "print('-------Shuffled version--------')\n",
    "print(pd.DataFrame(trainX,columns=['acceleration_x']))\n",
    "print('-------Original version--------')\n",
    "print(pd.DataFrame(x,columns=['acceleration_x']))"
   ]
  },
  {
   "attachments": {},
   "cell_type": "markdown",
   "metadata": {},
   "source": [
    "## Feature Scaling\n",
    "This pre-process techninique consist of \n",
    "\n",
    "Standarization is needed to provide a suitable scaling. In this case, it is done by appliying the following equation\n",
    "$$Z_i = \\frac{x_i-\\mu}{s} $$"
   ]
  },
  {
   "cell_type": "code",
   "execution_count": 44,
   "metadata": {},
   "outputs": [
    {
     "name": "stdout",
     "output_type": "stream",
     "text": [
      "30220\n"
     ]
    }
   ],
   "source": [
    "from sklearn.preprocessing import StandardScaler\n",
    "\n",
    "print(len(trainX))\n",
    "\n",
    "# scaler = StandardScaler() #calls the StandardScaler class\n",
    "# scaler.fit(trainX) #calculates the mean and the standard deviation of trainX\n",
    "# trainX = scaler.transform(trainX) # standardizes the trainX variable\n",
    "# testX = scaler.transform(testX) # standardizes the testX variable\n",
    "# print(len(trainX))"
   ]
  },
  {
   "attachments": {},
   "cell_type": "markdown",
   "metadata": {},
   "source": [
    "## SGD-Classifier\n",
    "This section is devoted to setting up the SGD classifier to make some predictions."
   ]
  },
  {
   "cell_type": "code",
   "execution_count": 5,
   "metadata": {},
   "outputs": [
    {
     "name": "stdout",
     "output_type": "stream",
     "text": [
      "Accuracy: 0.86\n"
     ]
    }
   ],
   "source": [
    "from sklearn.linear_model import SGDClassifier\n",
    "import matplotlib.pyplot as plt\n",
    "from sklearn.metrics import accuracy_score\n",
    "import time\n",
    "\n",
    "clf = SGDClassifier(loss=\"log_loss\", penalty=\"l2\")\n",
    "clf.fit(trainX, trainY)\n",
    "\n",
    "y_pred = clf.predict(testX)\n",
    "print(f'Accuracy: {:.2f}'.format(accuracy_score(testY, y_pred)))"
   ]
  }
 ],
 "metadata": {
  "kernelspec": {
   "display_name": "Python 3",
   "language": "python",
   "name": "python3"
  },
  "language_info": {
   "codemirror_mode": {
    "name": "ipython",
    "version": 3
   },
   "file_extension": ".py",
   "mimetype": "text/x-python",
   "name": "python",
   "nbconvert_exporter": "python",
   "pygments_lexer": "ipython3",
   "version": "3.10.10"
  },
  "orig_nbformat": 4
 },
 "nbformat": 4,
 "nbformat_minor": 2
}
