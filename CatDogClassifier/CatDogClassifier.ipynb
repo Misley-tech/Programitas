{
  "nbformat": 4,
  "nbformat_minor": 0,
  "metadata": {
    "colab": {
      "provenance": []
    },
    "kernelspec": {
      "name": "python3",
      "display_name": "Python 3"
    },
    "language_info": {
      "name": "python"
    }
  },
  "cells": [
    {
      "cell_type": "markdown",
      "source": [
        "\n"
      ],
      "metadata": {
        "id": "BZmBIvLVMcS7"
      }
    },
    {
      "cell_type": "markdown",
      "source": [
        "# Convolutional Neural Network"
      ],
      "metadata": {
        "id": "P1aP4g1CQC8T"
      }
    },
    {
      "cell_type": "markdown",
      "source": [
        "### Importing the libraries \n"
      ],
      "metadata": {
        "id": "NPY-DxZGQMyz"
      }
    },
    {
      "cell_type": "code",
      "source": [
        "import tensorflow as tf \n",
        "from keras.preprocessing.image import ImageDataGenerator"
      ],
      "metadata": {
        "id": "87UHHCltStwi"
      },
      "execution_count": 6,
      "outputs": []
    },
    {
      "cell_type": "markdown",
      "source": [
        "## Part 1 - Data Preprocessing (image augmentation)"
      ],
      "metadata": {
        "id": "Qk10lak7QRBq"
      }
    },
    {
      "cell_type": "markdown",
      "source": [
        "### Preprocessing the training set\n",
        "- rescale: _feature scalling_ because that's the representation range, this is a normalization \n",
        "- shear_range: is\n",
        "- zoom_range = applies zoom over the images\n",
        "- horizontal_flip = \n"
      ],
      "metadata": {
        "id": "x9ReqoqTQdQ0"
      }
    },
    {
      "cell_type": "code",
      "source": [
        "train_datagen = ImageDataGenerator(\n",
        "    rescale = 1./255 #Feature scalling\n",
        "    shear_range = 0.2\n",
        "    zoom_range = 0.2\n",
        "    horizontal_flip = True)\n",
        "training_set = train_datagen.flow_from_directory(\n",
        "    'dataset/training_set',\n",
        "    target_size = (64,64),\n",
        "    batch_size = 32,\n",
        "    class_mode = 'binary')\n"
      ],
      "metadata": {
        "id": "N5mk3xuYUCyV"
      },
      "execution_count": null,
      "outputs": []
    },
    {
      "cell_type": "markdown",
      "source": [
        "### Preprocessing the Test set"
      ],
      "metadata": {
        "id": "PPXzZtCUR3_N"
      }
    },
    {
      "cell_type": "code",
      "source": [
        "test_datagen = ImageDataGenerator(rescale=1./255)\n",
        "test_set = test_datagen.flow_from_directory(\n",
        "    'dataset/test_set',\n",
        "    target_size = (64,64),\n",
        "    batch_size = 32,\n",
        "    class_mode = 'binary')"
      ],
      "metadata": {
        "id": "4HQjxb5xibt2"
      },
      "execution_count": null,
      "outputs": []
    },
    {
      "cell_type": "markdown",
      "source": [
        "## Part 2 - Building the CNN\n"
      ],
      "metadata": {
        "id": "BL0K9wrcQed4"
      }
    },
    {
      "cell_type": "markdown",
      "source": [
        "### Initialising the CNN\n"
      ],
      "metadata": {
        "id": "9mG-cywTQwSj"
      }
    },
    {
      "cell_type": "code",
      "source": [
        "cnn = tf.keras.models.Sequential()"
      ],
      "metadata": {
        "id": "IehiDEl3jaBr"
      },
      "execution_count": null,
      "outputs": []
    },
    {
      "cell_type": "markdown",
      "source": [
        "### Setp 1 - Convolution"
      ],
      "metadata": {
        "id": "u_KFS36RQ2DO"
      }
    },
    {
      "cell_type": "code",
      "source": [
        "cnn.add(tf.keras.layers.Conv2D(filters = 32, kernel_size= 3, activation = 'relu',imput_shape=[64,64,3]))"
      ],
      "metadata": {
        "id": "Hvq7pw6NjhdL"
      },
      "execution_count": null,
      "outputs": []
    },
    {
      "cell_type": "markdown",
      "source": [
        "### Step 2 - Pooling"
      ],
      "metadata": {
        "id": "-0Y5g201Q4hz"
      }
    },
    {
      "cell_type": "code",
      "source": [
        "cnn.add(tf.keras.layers.MaxPool2D(pool_size = 2, strides=2))"
      ],
      "metadata": {
        "id": "h9T5eymWkJ58"
      },
      "execution_count": null,
      "outputs": []
    },
    {
      "cell_type": "markdown",
      "source": [
        "### Adding a second convolutional layer\n"
      ],
      "metadata": {
        "id": "b6X7W0oXQ7_e"
      }
    },
    {
      "cell_type": "code",
      "source": [
        "cnn.add(tf.keras.layers.Conv2D(filters = 32, kernel_size= 3, activation = 'relu'))\n",
        "cnn.add(tf.keras.layers.MaxPool2D(pool_size = 2, strides=2))"
      ],
      "metadata": {
        "id": "8DqXJ3fDkpC7"
      },
      "execution_count": null,
      "outputs": []
    },
    {
      "cell_type": "markdown",
      "source": [
        "### Step 3 - Flattening"
      ],
      "metadata": {
        "id": "bcYLewwWRCFl"
      }
    },
    {
      "cell_type": "code",
      "source": [
        "cnn.add(tf.keras.layers.Flatten())"
      ],
      "metadata": {
        "id": "-ResI9j3lCCR"
      },
      "execution_count": null,
      "outputs": []
    },
    {
      "cell_type": "markdown",
      "source": [
        "### Step 4 - Full Connection\n"
      ],
      "metadata": {
        "id": "eT0TTbhGRFW_"
      }
    },
    {
      "cell_type": "code",
      "source": [
        "cnn.add(tf.keras.layers.Dense(units=128, activations='relu'))"
      ],
      "metadata": {
        "id": "CbfN8vxWlJSx"
      },
      "execution_count": null,
      "outputs": []
    },
    {
      "cell_type": "markdown",
      "source": [
        "### Step 5 - Output Layer "
      ],
      "metadata": {
        "id": "RzfvdDKcRW9N"
      }
    },
    {
      "cell_type": "code",
      "source": [
        "cnn.add(tf.kears.layers.Dense(units=1, activation='sigmoid'))"
      ],
      "metadata": {
        "id": "ayZGueEllaQ2"
      },
      "execution_count": null,
      "outputs": []
    },
    {
      "cell_type": "markdown",
      "source": [
        "## Part 3 - Training the CNN\n"
      ],
      "metadata": {
        "id": "SWkAByUJRW0O"
      }
    },
    {
      "cell_type": "markdown",
      "source": [
        "### Compiling the CNN\n"
      ],
      "metadata": {
        "id": "c3b1zC13Regw"
      }
    },
    {
      "cell_type": "code",
      "source": [
        "cnn.compile(optimizer = 'adam', loss = 'binary_crossentropy', metrics = ['accuracy'])"
      ],
      "metadata": {
        "id": "GGEXJQwqlr8B"
      },
      "execution_count": null,
      "outputs": []
    },
    {
      "cell_type": "markdown",
      "source": [
        "### Training the CNN on the training set an evaluation it on the test set\n"
      ],
      "metadata": {
        "id": "ZF4VvtMLRiyA"
      }
    },
    {
      "cell_type": "code",
      "source": [
        "cnn.fit(x = training_set, validation_data = test_set, epochs = 25,)"
      ],
      "metadata": {
        "id": "dXKNdppwl-44"
      },
      "execution_count": null,
      "outputs": []
    },
    {
      "cell_type": "markdown",
      "source": [
        "## Part 4 - Making a single prediction\n"
      ],
      "metadata": {
        "id": "vLXBAaquRlff"
      }
    },
    {
      "cell_type": "code",
      "source": [
        "import numpy as np\n",
        "from keras.preprocessing import image\n",
        "test_image = image.load_img('dataset/single_prediction/cat_or_dog1.jpg',target_size = (64,64))\n",
        "test_image = image.img_to_array(test_image)\n",
        "test_image = np.expand_dims(test_image, axis = 0)\n",
        "result = cnn.predict(test_image)\n",
        "training_set.class_indices\n",
        "if result[0][0] == 1:\n",
        "  prediction = 'dog'\n",
        "else:\n",
        "  prediction = 'cat'"
      ],
      "metadata": {
        "id": "-g9zRpC-mYdK"
      },
      "execution_count": null,
      "outputs": []
    },
    {
      "cell_type": "code",
      "source": [
        "print(prediction)"
      ],
      "metadata": {
        "id": "QL3u-O7OoJTN"
      },
      "execution_count": null,
      "outputs": []
    }
  ]
}